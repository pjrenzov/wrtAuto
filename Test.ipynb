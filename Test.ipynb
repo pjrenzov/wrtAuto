{
 "cells": [
  {
   "cell_type": "code",
   "execution_count": 1,
   "id": "c7d353c2",
   "metadata": {},
   "outputs": [],
   "source": [
    "import WRT"
   ]
  },
  {
   "cell_type": "code",
   "execution_count": 2,
   "id": "cdc3898a",
   "metadata": {},
   "outputs": [],
   "source": [
    "test = WRT.OpenWRT('192.168.2.1','22','root','pj')"
   ]
  },
  {
   "cell_type": "code",
   "execution_count": 3,
   "id": "aada5f1c",
   "metadata": {},
   "outputs": [
    {
     "name": "stdout",
     "output_type": "stream",
     "text": [
      "Connection Established!\n"
     ]
    }
   ],
   "source": [
    "test.ConnectRouter()"
   ]
  },
  {
   "cell_type": "code",
   "execution_count": 4,
   "id": "33e3ef4c",
   "metadata": {},
   "outputs": [
    {
     "name": "stdout",
     "output_type": "stream",
     "text": [
      "Commandline execution faild\n",
      "nothing to repeat at position 0\n",
      "Success!\n"
     ]
    }
   ],
   "source": [
    "test.addParentalControl(\"192.168.2.163\",\"testing0.2\",\"09:20:00\",\"09:30:00\")"
   ]
  },
  {
   "cell_type": "code",
   "execution_count": null,
   "id": "3ae31688",
   "metadata": {},
   "outputs": [],
   "source": []
  }
 ],
 "metadata": {
  "kernelspec": {
   "display_name": "Python 3 (ipykernel)",
   "language": "python",
   "name": "python3"
  },
  "language_info": {
   "codemirror_mode": {
    "name": "ipython",
    "version": 3
   },
   "file_extension": ".py",
   "mimetype": "text/x-python",
   "name": "python",
   "nbconvert_exporter": "python",
   "pygments_lexer": "ipython3",
   "version": "3.9.7"
  }
 },
 "nbformat": 4,
 "nbformat_minor": 5
}
