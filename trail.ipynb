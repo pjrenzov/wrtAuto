{
 "cells": [
  {
   "cell_type": "code",
   "execution_count": 1,
   "id": "67ad9d7c",
   "metadata": {},
   "outputs": [],
   "source": [
    "import paramiko\n",
    "from paramiko_expect import SSHClientInteraction"
   ]
  },
  {
   "cell_type": "code",
   "execution_count": 2,
   "id": "211c0c96",
   "metadata": {},
   "outputs": [],
   "source": [
    "ssh = paramiko.SSHClient()"
   ]
  },
  {
   "cell_type": "code",
   "execution_count": 3,
   "id": "cfad2037",
   "metadata": {},
   "outputs": [],
   "source": [
    "ssh.load_system_host_keys()\n",
    "ssh.set_missing_host_key_policy(paramiko.AutoAddPolicy())"
   ]
  },
  {
   "cell_type": "code",
   "execution_count": 4,
   "id": "3077d4f4",
   "metadata": {},
   "outputs": [],
   "source": [
    "ssh.connect('192.168.2.1','22','root','pj')"
   ]
  },
  {
   "cell_type": "code",
   "execution_count": 14,
   "id": "4638d488",
   "metadata": {},
   "outputs": [],
   "source": [
    "def addParentalcontrol(ipaddr,name,startTime,endTime):\n",
    "    with SSHClientInteraction(ssh, timeout=10, display=True) as interact:\n",
    "        interact.send(\"uci add firewall rule\")\n",
    "        interact.send('uci set firewall.@rule[-1].name=\"{}\"'.format(name))\n",
    "        interact.send('uci set firewall.@rule[-1].src=\"lan\"')\n",
    "        interact.send('uci set firewall.@rule[-1].src_ip=\"{}\"'.format(ipaddr))\n",
    "        interact.send('uci set firewall.@rule[-1].dest=\"wan\"')\n",
    "        interact.send('uci set firewall.@rule[-1].start_time=\"{}\"'.format(startTime))\n",
    "        interact.send('uci set firewall.@rule[-1].stop_time=\"{}\"'.format(endTime))\n",
    "        interact.send('uci set firewall.@rule[-1].target=\"REJECT\"')\n",
    "        interact.send('uci commit firewall')\n",
    "        interact.send('/etc/init.d/firewall restart')"
   ]
  },
  {
   "cell_type": "code",
   "execution_count": 16,
   "id": "5f15611d",
   "metadata": {},
   "outputs": [
    {
     "name": "stdout",
     "output_type": "stream",
     "text": [
      "uci add firewall rule\n",
      "uci set firewall.@rule[-1].name=\"testing\"\n",
      "uci set firewall.@rule[-1].src=\"lan\"\n",
      "uci set firewall.@rule[-1].src_ip=\"192.168.2.163\"\n",
      "uci set firewall.@rule[-1].dest=\"wan\"\n",
      "uci set firewall.@rule[-1].start_time=\"10:30:00\"\n",
      "uci set firewall.@rule[-1].stop_time=\"10:35:00\"\n",
      "uci set firewall.@rule[-1].target=\"REJECT\"\n",
      "uci commit firewall\n",
      "/etc/init.d/firewall restart\n",
      "\n",
      "\n",
      "BusyBox v1.33.1 (2021-10-24 09:01:35 UTC) built-in shell (ash)\n",
      "\n",
      "  _______                     ________        __\n",
      " |       |.-----.-----.-----.|  |  |  |.----.|  |_\n",
      " |   -   ||  _  |  -__|     ||  |  |  ||   _||   _|\n",
      " |_______||   __|_____|__|__||________||__|  |____|\n",
      "          |__| W I R E L E S S   F R E E D O M\n",
      " -----------------------------------------------------\n",
      " OpenWrt 21.02.1, r16325-88151b8303\n",
      " -----------------------------------------------------\n",
      "root@OpenWrt:~# uci add firewall rule\n",
      "cfg1292bd\n",
      "root@OpenWrt:~# uci set firewall.@rule[-1].name=\"testing\"\n",
      "root@OpenWrt:~# uci set firewall.@rule[-1].src=\"lan\"\n",
      "root@OpenWrt:~# uci set firewall.@rule[-1].src_ip=\"192.168.2.163\"\n",
      "root@OpenWrt:~# uci set firewall.@rule[-1].dest=\"wan\"\n",
      "root@OpenWrt:~# uci set firewall.@rule[-1].start_time=\"10:30:00\"\n",
      "root@OpenWrt:~# uci set firewall.@rule[-1].stop_time=\"10:35:00\"\n",
      "root@OpenWrt:~# uci set firewall.@rule[-1].target=\"REJECT\"\n",
      "root@OpenWrt:~# uci commit firewall\n",
      "root@OpenWrt:~# /etc/init.d/firewall restart\n",
      "Warning: Section @rule[10] (testing) does not specify a protocol, assuming TCP+UDP\n",
      "Warning: Section @rule[11] (testing) does not specify a protocol, assuming TCP+UDP\n",
      " * Flushing IPv4 filter table\n",
      " * Flushing IPv4 nat table\n",
      " * Flushing IPv4 mangle table\n",
      " * Flushing IPv4 raw table\n",
      " * Flushing IPv6 filter table\n",
      " * Flushing IPv6 mangle table\n",
      " * Deleting ipset block_youtube\n",
      " * Flushing conntrack table ...\n",
      " * Creating ipset block_youtube\n",
      " * Populating IPv4 filter table\n",
      "   * Rule 'Allow-DHCP-Renew'\n",
      "   * Rule 'Allow-Ping'\n",
      "   * Rule 'Allow-IGMP'\n",
      "   * Rule 'Allow-IPSec-ESP'\n",
      "   * Rule 'Allow-ISAKMP'\n",
      "   * Rule 'testing'\n",
      "   * Rule 'testing'\n",
      "   * Forward 'lan' -> 'wan'\n",
      "   * Zone 'lan'\n",
      "   * Zone 'wan'\n",
      " * Populating IPv4 nat table\n",
      "   * Zone 'lan'\n",
      "   * Zone 'wan'\n",
      " * Populating IPv4 mangle table\n",
      "   * Zone 'lan'\n",
      "   * Zone 'wan'\n",
      " * Populating IPv4 raw table\n",
      "   * Zone 'lan'\n",
      "     - Using automatic conntrack helper attachment\n",
      "   * Zone 'wan'\n",
      " * Populating IPv6 filter table\n",
      "   * Rule 'Allow-DHCPv6'\n",
      "   * Rule 'Allow-MLD'\n",
      "   * Rule 'Allow-ICMPv6-Input'\n",
      "   * Rule 'Allow-ICMPv6-Forward'\n",
      "   * Rule 'Allow-IPSec-ESP'\n",
      "   * Rule 'Allow-ISAKMP'\n",
      "   * Rule 'testing'\n",
      "     ! Skipping due to different family of ip address\n",
      "     ! Skipping due to different family of ip address\n",
      "   * Rule 'testing'\n",
      "     ! Skipping due to different family of ip address\n",
      "     ! Skipping due to different family of ip address\n",
      "   * Forward 'lan' -> 'wan'\n",
      "   * Zone 'lan'\n",
      "   * Zone 'wan'\n",
      " * Populating IPv6 mangle table\n",
      "   * Zone 'lan'\n",
      "   * Zone 'wan'\n",
      " * Set tcp_ecn to off\n",
      " * Set tcp_syncookies to on\n",
      " * Set tcp_window_scaling to on\n",
      " * Running script '/etc/firewall.user'\n",
      "root@OpenWrt:~# EXCESS TIME RECV_READY TIMEOUT, did you expect() before a send()\n"
     ]
    }
   ],
   "source": [
    "addParentalcontrol(\"192.168.2.163\",\"testing\",\"10:30:00\",\"10:35:00\")"
   ]
  },
  {
   "cell_type": "code",
   "execution_count": null,
   "id": "a17b0409",
   "metadata": {},
   "outputs": [],
   "source": []
  }
 ],
 "metadata": {
  "kernelspec": {
   "display_name": "Python 3 (ipykernel)",
   "language": "python",
   "name": "python3"
  },
  "language_info": {
   "codemirror_mode": {
    "name": "ipython",
    "version": 3
   },
   "file_extension": ".py",
   "mimetype": "text/x-python",
   "name": "python",
   "nbconvert_exporter": "python",
   "pygments_lexer": "ipython3",
   "version": "3.9.7"
  }
 },
 "nbformat": 4,
 "nbformat_minor": 5
}
